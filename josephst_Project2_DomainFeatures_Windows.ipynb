{
 "cells": [
  {
   "cell_type": "markdown",
   "metadata": {},
   "source": [
    "# Domain Features Classification\n",
    "\n",
    "#### Use Windowing and Domain Features to Classify Audio Samples"
   ]
  },
  {
   "cell_type": "code",
   "execution_count": 1,
   "metadata": {},
   "outputs": [],
   "source": [
    "#import packages\n",
    "#general \n",
    "import pandas as pd\n",
    "import numpy as np\n",
    "import itertools\n",
    "from collections import Counter\n",
    "\n",
    "#visualization packages\n",
    "import matplotlib.pyplot as plt\n",
    "from ipywidgets import interact\n",
    "from IPython.display import Audio\n",
    "from IPython.display import display\n",
    "\n",
    "#file reading\n",
    "import glob\n",
    "import os\n",
    "\n",
    "#audio signal processing\n",
    "from scipy import fftpack\n",
    "from scipy import signal\n",
    "from scipy.io import wavfile\n",
    "from scipy.signal import find_peaks\n",
    "\n",
    "#modeling\n",
    "from sklearn.model_selection import KFold, cross_val_score\n",
    "from sklearn.ensemble import RandomForestClassifier\n",
    "from sklearn.svm import SVC\n",
    "from sklearn.preprocessing import normalize\n",
    "from sklearn.model_selection import train_test_split\n",
    "from sklearn.metrics import confusion_matrix\n",
    "from sklearn.model_selection import GroupShuffleSplit\n",
    "from sklearn.model_selection import GroupKFold"
   ]
  },
  {
   "cell_type": "markdown",
   "metadata": {},
   "source": [
    "# DataSet\n",
    "\n",
    "#### Sound Classes (20 X 30s audio samples for each)\n",
    "* [Fire Alarm](https://www.youtube.com/watch?v=nIfIAgkB-MI)\n",
    "* Song\n",
    "    - (5) Folsom Prison Blues - Johnny Cash\n",
    "    - (5) Cocoa Butter Kisses - Chance the Rapper\n",
    "    - (5) 3005 - Childish Gambino\n",
    "    - (5) Alive with the Glory of Love - Say Anything\n",
    "* Microwave\n",
    "* Blender\n",
    "* Vacuum\n",
    "* Silence\n"
   ]
  },
  {
   "cell_type": "markdown",
   "metadata": {},
   "source": [
    "## Read and Collect Audio File Info"
   ]
  },
  {
   "cell_type": "code",
   "execution_count": 2,
   "metadata": {},
   "outputs": [
    {
     "data": {
      "text/html": [
       "<div>\n",
       "<style scoped>\n",
       "    .dataframe tbody tr th:only-of-type {\n",
       "        vertical-align: middle;\n",
       "    }\n",
       "\n",
       "    .dataframe tbody tr th {\n",
       "        vertical-align: top;\n",
       "    }\n",
       "\n",
       "    .dataframe thead th {\n",
       "        text-align: right;\n",
       "    }\n",
       "</style>\n",
       "<table border=\"1\" class=\"dataframe\">\n",
       "  <thead>\n",
       "    <tr style=\"text-align: right;\">\n",
       "      <th></th>\n",
       "      <th>label</th>\n",
       "      <th>name</th>\n",
       "      <th>path</th>\n",
       "    </tr>\n",
       "  </thead>\n",
       "  <tbody>\n",
       "    <tr>\n",
       "      <th>0</th>\n",
       "      <td>alarm</td>\n",
       "      <td>alarm102019_10_06_10_03_49.wav</td>\n",
       "      <td>data\\alarm\\alarm102019_10_06_10_03_49.wav</td>\n",
       "    </tr>\n",
       "    <tr>\n",
       "      <th>1</th>\n",
       "      <td>alarm</td>\n",
       "      <td>alarm12019_10_06_09_54_08.wav</td>\n",
       "      <td>data\\alarm\\alarm12019_10_06_09_54_08.wav</td>\n",
       "    </tr>\n",
       "    <tr>\n",
       "      <th>2</th>\n",
       "      <td>alarm</td>\n",
       "      <td>alarm22019_10_06_09_55_03.wav</td>\n",
       "      <td>data\\alarm\\alarm22019_10_06_09_55_03.wav</td>\n",
       "    </tr>\n",
       "    <tr>\n",
       "      <th>3</th>\n",
       "      <td>alarm</td>\n",
       "      <td>alarm312019_10_07_16_35_07.wav</td>\n",
       "      <td>data\\alarm\\alarm312019_10_07_16_35_07.wav</td>\n",
       "    </tr>\n",
       "    <tr>\n",
       "      <th>4</th>\n",
       "      <td>alarm</td>\n",
       "      <td>alarm32019_10_06_09_55_56.wav</td>\n",
       "      <td>data\\alarm\\alarm32019_10_06_09_55_56.wav</td>\n",
       "    </tr>\n",
       "  </tbody>\n",
       "</table>\n",
       "</div>"
      ],
      "text/plain": [
       "   label                            name  \\\n",
       "0  alarm  alarm102019_10_06_10_03_49.wav   \n",
       "1  alarm   alarm12019_10_06_09_54_08.wav   \n",
       "2  alarm   alarm22019_10_06_09_55_03.wav   \n",
       "3  alarm  alarm312019_10_07_16_35_07.wav   \n",
       "4  alarm   alarm32019_10_06_09_55_56.wav   \n",
       "\n",
       "                                        path  \n",
       "0  data\\alarm\\alarm102019_10_06_10_03_49.wav  \n",
       "1   data\\alarm\\alarm12019_10_06_09_54_08.wav  \n",
       "2   data\\alarm\\alarm22019_10_06_09_55_03.wav  \n",
       "3  data\\alarm\\alarm312019_10_07_16_35_07.wav  \n",
       "4   data\\alarm\\alarm32019_10_06_09_55_56.wav  "
      ]
     },
     "execution_count": 2,
     "metadata": {},
     "output_type": "execute_result"
    }
   ],
   "source": [
    "#create df to store file labels and paths \n",
    "audioInfo_DF = pd.DataFrame(columns = ['label', 'name', 'path'])\n",
    "\n",
    "#cycle through each folder and wav file\n",
    "for file in glob.glob('data/*/*.wav'):\n",
    "    #create DFrow dictionary to hold row information that will be appended\n",
    "    dfRow = {}\n",
    "    pathList = file.split('\\\\')\n",
    "    dfRow['label'] = pathList[-2]\n",
    "    dfRow['name'] = pathList[-1]\n",
    "    dfRow['path'] = file\n",
    "    #add file label, name, and path to DF\n",
    "    audioInfo_DF=audioInfo_DF.append(dfRow, ignore_index=True)\n",
    "\n",
    "audioInfo_DF.head()"
   ]
  },
  {
   "cell_type": "markdown",
   "metadata": {},
   "source": [
    "# Test Median Filtering rates\n",
    "\n",
    "#### I'll be applying some measure of median filtering to the audio file data just to smooth out the noise. First, I'll check the filter sizes against the Audio player to ensure not too much data is lost\n",
    "\n",
    "#### Top Player = No Filter\n",
    "#### Bottom Player = Median Filter"
   ]
  },
  {
   "cell_type": "code",
   "execution_count": 3,
   "metadata": {},
   "outputs": [
    {
     "data": {
      "application/vnd.jupyter.widget-view+json": {
       "model_id": "e5473fbedb844d7697f87b9eb7959314",
       "version_major": 2,
       "version_minor": 0
      },
      "text/plain": [
       "interactive(children=(IntSlider(value=65, description='idx', max=130), Output()), _dom_classes=('widget-intera…"
      ]
     },
     "metadata": {},
     "output_type": "display_data"
    }
   ],
   "source": [
    "#create an interactive audio player to listen to listen to the files\n",
    "@interact(idx=(0,len(audioInfo_DF)))\n",
    "def playAudio(idx):\n",
    "    rate, amp = wavfile.read(os.path.abspath(audioInfo_DF['path'][idx])) #read in file\n",
    "    #show amplitude chart\n",
    "    time = np.arange(0, amp.size/rate, 1/rate)\n",
    "    plt.plot(time[10000:10100], amp[10000:10100])\n",
    "    plt.title('Audio Recording: %d'%idx)\n",
    "    plt.xlabel('Seconds')\n",
    "    plt.ylabel('Amplitude')\n",
    "    plt.show()\n",
    "    #Display audio player\n",
    "    display(Audio(amp, rate=rate))\n",
    "    \n",
    "    # apply filter and create another player\n",
    "    amp = signal.medfilt(amp,11)\n",
    "    #show amplitude chart\n",
    "    time = np.arange(0, amp.size/rate, 1/rate)\n",
    "    plt.plot(time[10000:10100], amp[10000:10100])\n",
    "    plt.title('Audio Recording: %d'%idx)\n",
    "    plt.xlabel('Seconds')\n",
    "    plt.ylabel('Amplitude')\n",
    "    plt.show()\n",
    "    #Display audio player\n",
    "    display(Audio(amp, rate=rate))"
   ]
  },
  {
   "cell_type": "markdown",
   "metadata": {},
   "source": [
    "# Create a Dataset\n",
    "\n",
    "#### Read each of the wav files, divide them into 3s overlapping windows, and reduce them into a feature set"
   ]
  },
  {
   "cell_type": "code",
   "execution_count": 4,
   "metadata": {},
   "outputs": [],
   "source": [
    "def loadWave(idx):\n",
    "    #get read rate and time series amplitude from wav file\n",
    "    rate, amp = wavfile.read(audioInfo_DF['path'][idx])\n",
    "    amp = amp.astype(float) # convert to float\n",
    "    return rate, amp"
   ]
  },
  {
   "cell_type": "code",
   "execution_count": 5,
   "metadata": {},
   "outputs": [
    {
     "data": {
      "image/png": "[encoded data removed]",
      "text/plain": [
       "<Figure size 432x288 with 1 Axes>"
      ]
     },
     "metadata": {
      "needs_background": "light"
     },
     "output_type": "display_data"
    },
    {
     "data": {
      "text/plain": [
       "([1400, 600, 1250, 900, 300, 2950, 4850, 1700, 2350, 1550],\n",
       " [4981.32199279412,\n",
       "  2440.849757231213,\n",
       "  1887.2578239228008,\n",
       "  1181.356333215875,\n",
       "  996.8501990978391,\n",
       "  657.9446538381861,\n",
       "  626.6778104626399,\n",
       "  682.5694803711599,\n",
       "  436.81508529161937,\n",
       "  456.82680015219955],\n",
       " 10,\n",
       " 1475.0)"
      ]
     },
     "execution_count": 5,
     "metadata": {},
     "output_type": "execute_result"
    }
   ],
   "source": [
    "#create formula for extracting frequency peaks\n",
    "def calcFilterSize(rate):\n",
    "    '''\n",
    "    Calculates integer filter size to use based on audios sampling rate\n",
    "    return: odd integer\n",
    "    '''\n",
    "    SizeToRateRatio = 11/44100\n",
    "    filterSize = int(rate * SizeToRateRatio)\n",
    "    #ensure filter Size is odd\n",
    "    if filterSize%2 != 1:\n",
    "        filterSize += 1\n",
    "    return filterSize\n",
    "\n",
    "def getFFTPeaks(rate, amp, n=5, show=False):\n",
    "    '''\n",
    "    input: audio sampling rate, (float)\n",
    "            amplitude readings, (np.array)\n",
    "    output: \n",
    "            top n frequency peak frequencies, (np.array)\n",
    "            top n frequency peak amplitudes, (np.array)\n",
    "    '''\n",
    "    #normalize amplitudes\n",
    "    amp = amp.astype(float) # convert to float\n",
    "    amp = (amp - amp.mean())/ np.max(np.abs(amp)) # normalize\n",
    "    \n",
    "    #change signal to frequency domain\n",
    "    freqAmp = abs(fftpack.fft(amp))\n",
    "    freqList = fftpack.fftfreq(len(amp)) * rate\n",
    "    \n",
    "    #slice arrays to remove frequency reflection\n",
    "    freqAmp = freqAmp[range(len(freqAmp)//2)]\n",
    "    freqList = freqList[range(len(freqList)//2)]\n",
    "    \n",
    "    #remove frequencies above 15000\n",
    "    freqMask = freqList < 15000\n",
    "    freqAmp = freqAmp[freqMask]\n",
    "    freqList = freqList[freqMask]\n",
    "    \n",
    "#     #apply median filtering to FFT to isolate peaks\n",
    "    filterSize = calcFilterSize(rate)\n",
    "#     freqAmp = signal.medfilt(freqAmp,filterSize)\n",
    "    \n",
    "    #downsample the frequency list to 1 point for each 10 hertz\n",
    "    downSample = int(1/(freqList[1]-freqList[0])) * 50\n",
    "    freqAmp = np.array([freqAmp[i*downSample : (i*downSample + downSample)].max() for i in range(len(freqAmp)//downSample)])\n",
    "    freqList = np.array((range(len(freqList)//downSample))) * 50\n",
    "    \n",
    "    \n",
    "    \n",
    "    #get peaks\n",
    "    #restrict distance between them and the required height\n",
    "    peaks, prop = find_peaks(freqAmp, height=np.percentile(freqAmp,95), prominence=0)\n",
    "    #get top peaks by height\n",
    "    peakProminenceOrder = np.argsort(prop['prominences'])[::-1]\n",
    "    topN = peakProminenceOrder[:n]\n",
    "    \n",
    "    #get total number of peaks as a feature\n",
    "    peakCount = len(peaks)\n",
    "    medPeak = np.median(freqList[peaks])\n",
    "    \n",
    "    if show:\n",
    "        plt.plot(freqList, freqAmp, linestyle='-', color='blue')\n",
    "        plt.xlabel('Frequency')\n",
    "        plt.ylabel('Amplitude')\n",
    "        plt.plot(freqList[peaks[topN]], freqAmp[peaks[topN]], \"x\")\n",
    "        plt.title(\"FFT of audio Signal\")\n",
    "        plt.show()\n",
    "    \n",
    "    #right pad frequencies and amplitudes to ensure n are returned\n",
    "    zeroPad = [0]*(n-len(topN))\n",
    "    \n",
    "    #return top n frequencies and their amplitudes\n",
    "    return (list(freqList[peaks[topN]]) + zeroPad, list(freqAmp[peaks[topN]]) + zeroPad, peakCount, medPeak)\n",
    "\n",
    "#test peaks function\n",
    "sample_i = 11\n",
    "rate, amp = loadWave(sample_i)\n",
    "#get clip\n",
    "amp = amp[1000:(1000 + rate*3)]\n",
    "getFFTPeaks(rate, amp, n=10, show=True)"
   ]
  },
  {
   "cell_type": "code",
   "execution_count": 6,
   "metadata": {},
   "outputs": [],
   "source": [
    "def getDistFeatures(rate, amp):\n",
    "    '''\n",
    "    input: sampling rate (float)\n",
    "            amplitudes (np.array)\n",
    "    output:\n",
    "             distributional features of the audio amplitudes\n",
    "    '''\n",
    "    distFeatures = []\n",
    "    distFeatures.append(np.median(abs(amp))) #medianAmp\n",
    "    distFeatures.append(np.percentile(abs(amp), 95)) #maxAmp\n",
    "    distFeatures.append(np.percentile(abs(amp), 5)) #minAmp\n",
    "    distFeatures.append(np.std(amp))\n",
    "    return distFeatures"
   ]
  },
  {
   "cell_type": "code",
   "execution_count": 7,
   "metadata": {},
   "outputs": [],
   "source": [
    "##create function for dividing audio sample into overlapping windows\n",
    "def splitAudio(rate, amp, seconds=3, overlap=0.5):\n",
    "    windowSize = rate*seconds\n",
    "    skipSize = int(windowSize * (1-overlap))\n",
    "    \n",
    "    windows = [] #stores the split audio arrays\n",
    "    pointer = 0 #current beginning of each split, updated in the loop\n",
    "    \n",
    "    #while the window max ndex does not exceed the audio length create a new window\n",
    "    while((pointer + windowSize) <= len(amp)):\n",
    "        windows.append(amp[pointer:pointer+windowSize])\n",
    "        pointer += skipSize\n",
    "    #return the split audio windows\n",
    "    return windows"
   ]
  },
  {
   "cell_type": "code",
   "execution_count": 8,
   "metadata": {},
   "outputs": [
    {
     "name": "stdout",
     "output_type": "stream",
     "text": [
      "X shape:  (3012, 26)\n",
      "y shape:  (3012,)\n"
     ]
    }
   ],
   "source": [
    "#create dataset using above functions\n",
    "\n",
    "X  = []  #holds dataset features\n",
    "y = [] #holds dataet labels\n",
    "group = [] #holds original audio file index. Helps ensure that the model is not trained and tested on files from the same sample\n",
    "#read through each of the files in the audioInfo_DF. \n",
    "#Read and split the audio files into windows. \n",
    "#Create a feature set from each window\n",
    "for idx in range(len(audioInfo_DF)):\n",
    "    rate, amp = loadWave(idx) #read file\n",
    "    windows = splitAudio(rate, amp) #split audio into windows\n",
    "    #for each window calculate features and add to X\n",
    "    for w in windows:\n",
    "        features = [] #holds features caculated from each audio window\n",
    "        #add frequency peaks\n",
    "        peakFreqs, peakAmps, peakCount, medPeak = getFFTPeaks(rate, w, n=10) #send w to FFT peak calculation\n",
    "        #add FFT features to list\n",
    "        features = features + peakFreqs + peakAmps\n",
    "        features.append(peakCount)\n",
    "        features.append(medPeak)\n",
    "        #add distributional features\n",
    "        features += getDistFeatures(rate, w)\n",
    "        #append feature set to X\n",
    "        X.append(np.array(features).astype(float))\n",
    "        #add windows label to y list\n",
    "        y.append(audioInfo_DF['label'][idx])\n",
    "        #save file index of window\n",
    "        group.append(idx)\n",
    "\n",
    "#convert to numpy and print array sizes\n",
    "X = np.array(X)\n",
    "y = np.array(y)\n",
    "group = np.array(group)\n",
    "print('X shape: ', X.shape)\n",
    "print('y shape: ', y.shape)"
   ]
  },
  {
   "cell_type": "markdown",
   "metadata": {},
   "source": [
    "## Check Class Balance\n",
    "\n",
    "#### The class sample counts are still relatively balanced. No need to resample"
   ]
  },
  {
   "cell_type": "code",
   "execution_count": 9,
   "metadata": {},
   "outputs": [
    {
     "name": "stdout",
     "output_type": "stream",
     "text": [
      "dict_items([('alarm', 517), ('blender', 439), ('microwave', 497), ('silent', 476), ('songs', 616), ('vacuum', 467)])\n",
      "File counts for each class\n",
      "Category: blender \t Count: 439\n",
      "Category: vacuum \t Count: 467\n",
      "Category: silent \t Count: 476\n",
      "Category: microwave \t Count: 497\n",
      "Category: alarm \t Count: 517\n",
      "Category: songs \t Count: 616\n"
     ]
    }
   ],
   "source": [
    "# chart class distributio of audio files\n",
    "catCounts = Counter()\n",
    "catCounts.update(y)\n",
    "print(catCounts.items())\n",
    "sCatCounter = sorted(catCounts.items(), key = lambda x: x[1])\n",
    "print('File counts for each class')\n",
    "for cat, row in sCatCounter:\n",
    "    print('Category: %s \\t Count: %s'%(cat,str(row)))"
   ]
  },
  {
   "cell_type": "markdown",
   "metadata": {},
   "source": [
    "# Format Dataset and Labels"
   ]
  },
  {
   "cell_type": "code",
   "execution_count": 10,
   "metadata": {},
   "outputs": [
    {
     "name": "stdout",
     "output_type": "stream",
     "text": [
      "Count of Audio Clips for Training:  103\n",
      "Count of Audio Clips for Testing:  26\n"
     ]
    }
   ],
   "source": [
    "#normalize feature set\n",
    "Xnorm = normalize(X)\n",
    "\n",
    "#split data into train and test datasets. Ensure windows from the same audio clip are only in 1 of the 2 dataset\n",
    "groupShuffler = GroupShuffleSplit(test_size=.20, n_splits=2, random_state = 42) \n",
    "#get indexes of groups in the train and test sets\n",
    "train_group_idxs, test_group_idxs = next(groupShuffler.split(Xnorm, y=y, groups=group))\n",
    "#create train and test sets with divided groups\n",
    "\n",
    "X_train = Xnorm[train_group_idxs,:]\n",
    "y_train = y[train_group_idxs]\n",
    "group_train = group[train_group_idxs]\n",
    "X_test = Xnorm[test_group_idxs,:]\n",
    "y_test = y[test_group_idxs]\n",
    "group_test = group[test_group_idxs]\n",
    "\n",
    "# #check that the train and test sets do not contain any sample from the same group\n",
    "trainGroups = set(group_train)\n",
    "testGroups = set(group_test)\n",
    "print(\"Count of Audio Clips for Training: \", len(trainGroups))\n",
    "print(\"Count of Audio Clips for Testing: \", len(testGroups))\n",
    "\n",
    "assert(len(trainGroups.intersection(testGroups)) == 0)"
   ]
  },
  {
   "cell_type": "markdown",
   "metadata": {},
   "source": [
    "# Train Classification Models"
   ]
  },
  {
   "cell_type": "code",
   "execution_count": 11,
   "metadata": {},
   "outputs": [],
   "source": [
    "#get average accuracy of model using kfold split\n",
    "def getAccuracy(model, X, y, group, show=False):\n",
    "    cv = GroupKFold(n_splits=10)\n",
    "    scores = []\n",
    "    \n",
    "    for train_index, test_index in cv.split(X, y, group):\n",
    "        if(show):\n",
    "            print(\"Train Index: \", train_index)\n",
    "            print(\"Test Index: \", test_index)\n",
    "        X_train, X_val, y_train, y_val = X[train_index], X[test_index], y[train_index], y[test_index]\n",
    "        model.fit(X_train, y_train)\n",
    "        scores.append(model.score(X_val, y_val))\n",
    "    acc = np.mean(scores)\n",
    "    if show:\n",
    "        print(\"Mean accuracy:\" + str(acc))\n",
    "    return acc"
   ]
  },
  {
   "cell_type": "code",
   "execution_count": 12,
   "metadata": {},
   "outputs": [
    {
     "name": "stdout",
     "output_type": "stream",
     "text": [
      "(0.0001, 'linear')   \t\t acc: 10.190000000000001%\n",
      "(0.0001, 'poly')     \t\t acc: 10.190000000000001%\n",
      "(0.0001, 'rbf')      \t\t acc: 10.190000000000001%\n",
      "(0.01, 'linear')     \t\t acc: 27.139999999999997%\n",
      "(0.01, 'poly')       \t\t acc: 10.190000000000001%\n",
      "(0.01, 'rbf')        \t\t acc: 10.190000000000001%\n",
      "(1, 'linear')        \t\t acc: 91.96%    \n",
      "(1, 'poly')          \t\t acc: 10.190000000000001%\n",
      "(1, 'rbf')           \t\t acc: 59.27%    \n",
      "(100.0, 'linear')    \t\t acc: 93.02%    \n",
      "(100.0, 'poly')      \t\t acc: 27.560000000000002%\n",
      "(100.0, 'rbf')       \t\t acc: 93.24%    \n",
      "(10000.0, 'linear')  \t\t acc: 92.97999999999999%\n",
      "(10000.0, 'poly')    \t\t acc: 92.78999999999999%\n",
      "(10000.0, 'rbf')     \t\t acc: 93.15%    \n",
      "(1000000.0, 'linear') \t\t acc: 92.9%     \n",
      "(1000000.0, 'poly')  \t\t acc: 94.28999999999999%\n",
      "(1000000.0, 'rbf')   \t\t acc: 94.48%    \n",
      "(100000000.0, 'linear') \t\t acc: 92.32000000000001%\n",
      "(100000000.0, 'poly') \t\t acc: 94.37%    \n",
      "(100000000.0, 'rbf') \t\t acc: 94.11%    \n",
      "\n",
      "*** Best Model ***\n",
      "Accuracy: 94.48%\n",
      "Parameters: <bound method BaseEstimator.get_params of SVC(C=1000000.0, cache_size=200, class_weight=None, coef0=0.0,\n",
      "    decision_function_shape='ovr', degree=3, gamma='auto', kernel='rbf',\n",
      "    max_iter=-1, probability=False, random_state=None, shrinking=True,\n",
      "    tol=0.001, verbose=False)>\n"
     ]
    }
   ],
   "source": [
    "#SVM hyperparameter selection\n",
    "\n",
    "#set hyperparameter lists\n",
    "cValues = [1e-4, 1e-2, 1, 1e2, 1e4, 1e6, 1e8]\n",
    "kernels = ['linear', 'poly', 'rbf']\n",
    "bestSvmModel = None\n",
    "bestAcc = 0\n",
    "\n",
    "#get model accuracy for each combination of hyperparameters\n",
    "for parPair in itertools.product(cValues, kernels):\n",
    "    model = SVC(C=parPair[0], kernel=parPair[1], gamma='auto')\n",
    "    acc = getAccuracy(model, X_train, y_train, group_train)\n",
    "    # training info printout\n",
    "    print(\"%-20s \\t\\t acc: %-10s\"%(str(parPair), str(round(acc,4)*100)+'%'))\n",
    "    if acc > bestAcc:\n",
    "        bestSvmModel = model\n",
    "        bestAcc = acc\n",
    "\n",
    "#print best model hyperparameters\n",
    "print('\\n*** Best Model ***')\n",
    "print(\"Accuracy: \" + str(round(bestAcc,4)*100)+'%')\n",
    "print(\"Parameters: \" + str(bestSvmModel.get_params))"
   ]
  },
  {
   "cell_type": "code",
   "execution_count": 13,
   "metadata": {},
   "outputs": [
    {
     "name": "stdout",
     "output_type": "stream",
     "text": [
      "(500, 'gini', None)  \t\t acc: 96.09%    \n",
      "(500, 'gini', 1)     \t\t acc: 58.209999999999994%\n",
      "(500, 'gini', 5)     \t\t acc: 94.36%    \n",
      "(500, 'gini', 10)    \t\t acc: 96.05%    \n",
      "(500, 'gini', 20)    \t\t acc: 96.13000000000001%\n",
      "(500, 'entropy', None) \t\t acc: 96.21%    \n",
      "(500, 'entropy', 1)  \t\t acc: 53.790000000000006%\n",
      "(500, 'entropy', 5)  \t\t acc: 94.38%    \n",
      "(500, 'entropy', 10) \t\t acc: 95.88%    \n",
      "(500, 'entropy', 20) \t\t acc: 96.08%    \n",
      "\n",
      "*** Best Model ***\n",
      "Accuracy: 96.21%\n",
      "Parameters: <bound method BaseEstimator.get_params of RandomForestClassifier(bootstrap=True, class_weight=None, criterion='entropy',\n",
      "                       max_depth=None, max_features='auto', max_leaf_nodes=None,\n",
      "                       min_impurity_decrease=0.0, min_impurity_split=None,\n",
      "                       min_samples_leaf=1, min_samples_split=2,\n",
      "                       min_weight_fraction_leaf=0.0, n_estimators=500,\n",
      "                       n_jobs=None, oob_score=False, random_state=None,\n",
      "                       verbose=0, warm_start=False)>\n"
     ]
    }
   ],
   "source": [
    "# Random Forest hyperparameter selection\n",
    "#set hyperparameter lists\n",
    "n = [500]\n",
    "c = ['gini', 'entropy'] \n",
    "maxD = [None,1,5,10,20]\n",
    "bestRFModel = None\n",
    "bestAcc = 0\n",
    "\n",
    "#get model accuracy for each combination of hyperparameters\n",
    "for parPair in itertools.product(n,c, maxD):\n",
    "    model = RandomForestClassifier(n_estimators=parPair[0], criterion=parPair[1], max_depth=parPair[2])\n",
    "    acc = getAccuracy(model, X_train, y_train, group_train)\n",
    "    # training info printout\n",
    "    print(\"%-20s \\t\\t acc: %-10s\"%(str(parPair), str(round(acc,4)*100)+'%'))\n",
    "    if acc > bestAcc:\n",
    "        bestRFModel = model\n",
    "        bestAcc = acc\n",
    "\n",
    "#print best model hyperparameters\n",
    "print('\\n*** Best Model ***')\n",
    "print(\"Accuracy: \" + str(round(bestAcc,4)*100)+'%')\n",
    "print(\"Parameters: \" + str(bestRFModel.get_params))"
   ]
  },
  {
   "cell_type": "markdown",
   "metadata": {},
   "source": [
    "# Use \"unseen\" Data for Final Model Test"
   ]
  },
  {
   "cell_type": "code",
   "execution_count": 14,
   "metadata": {},
   "outputs": [],
   "source": [
    "favModel = bestRFModel"
   ]
  },
  {
   "cell_type": "code",
   "execution_count": 15,
   "metadata": {},
   "outputs": [
    {
     "name": "stdout",
     "output_type": "stream",
     "text": [
      "Confusion matrix, without normalization\n",
      "Normalized confusion matrix\n"
     ]
    },
    {
     "data": {
      "image/png": "[encoded data removed]",
      "text/plain": [
       "<Figure size 432x288 with 2 Axes>"
      ]
     },
     "metadata": {
      "needs_background": "light"
     },
     "output_type": "display_data"
    },
    {
     "data": {
      "image/png": "[encoded data removed]",
      "text/plain": [
       "<Figure size 432x288 with 2 Axes>"
      ]
     },
     "metadata": {
      "needs_background": "light"
     },
     "output_type": "display_data"
    }
   ],
   "source": [
    "#the code below was taken from an SKLearn tutorial\n",
    "#https://scikit-learn.org/stable/auto_examples/model_selection/plot_confusion_matrix.html#sphx-glr-auto-examples-model-selection-plot-confusion-matrix-py\n",
    "\n",
    "\n",
    "from sklearn.utils.multiclass import unique_labels\n",
    "def plot_confusion_matrix(y_true, y_pred, classes,\n",
    "                          normalize=False,\n",
    "                          title=None,\n",
    "                          cmap=plt.cm.Blues):\n",
    "    \"\"\"\n",
    "    This function prints and plots the confusion matrix.\n",
    "    Normalization can be applied by setting `normalize=True`.\n",
    "    \"\"\"\n",
    "    if not title:\n",
    "        if normalize:\n",
    "            title = 'Normalized confusion matrix'\n",
    "        else:\n",
    "            title = 'Confusion matrix, without normalization'\n",
    "\n",
    "    # Compute confusion matrix\n",
    "    cm = confusion_matrix(y_true, y_pred)\n",
    "    if normalize:\n",
    "        cm = cm.astype('float') / cm.sum(axis=1)[:, np.newaxis]\n",
    "        print(\"Normalized confusion matrix\")\n",
    "    else:\n",
    "        print('Confusion matrix, without normalization')\n",
    "\n",
    "    fig, ax = plt.subplots()\n",
    "    im = ax.imshow(cm, interpolation='nearest', cmap=cmap)\n",
    "    ax.figure.colorbar(im, ax=ax)\n",
    "    # We want to show all ticks...\n",
    "    ax.set(xticks=np.arange(cm.shape[1]),\n",
    "           yticks=np.arange(cm.shape[0]),\n",
    "           # ... and label them with the respective list entries\n",
    "           xticklabels=classes, yticklabels=classes,\n",
    "           title=title,\n",
    "           ylabel='True label',\n",
    "           xlabel='Predicted label')\n",
    "\n",
    "    # Rotate the tick labels and set their alignment.\n",
    "    plt.setp(ax.get_xticklabels(), rotation=45, ha=\"right\",\n",
    "             rotation_mode=\"anchor\")\n",
    "\n",
    "    # Loop over data dimensions and create text annotations.\n",
    "    fmt = '.2f' if normalize else 'd'\n",
    "    thresh = cm.max() / 2.\n",
    "    for i in range(cm.shape[0]):\n",
    "        for j in range(cm.shape[1]):\n",
    "            ax.text(j, i, format(cm[i, j], fmt),\n",
    "                    ha=\"center\", va=\"center\",\n",
    "                    color=\"white\" if cm[i, j] > thresh else \"black\")\n",
    "    fig.tight_layout()\n",
    "    return ax\n",
    "\n",
    "\n",
    "#get predicted classes for test dataset\n",
    "y_pred = favModel.predict(X_test)\n",
    "class_names = sorted(set(y))\n",
    "\n",
    "\n",
    "#use sklearn function to print confusion matrixes\n",
    "np.set_printoptions(precision=2)\n",
    "# Plot non-normalized confusion matrix\n",
    "plot_confusion_matrix(y_test, y_pred, classes=class_names, title='Confusion matrix, without normalization')\n",
    "# Plot normalized confusion matrix\n",
    "plot_confusion_matrix(y_test, y_pred, classes=class_names, normalize=True, title='Normalized confusion matrix')\n",
    "plt.show()"
   ]
  },
  {
   "cell_type": "code",
   "execution_count": 16,
   "metadata": {},
   "outputs": [
    {
     "data": {
      "text/html": [
       "<div>\n",
       "<style scoped>\n",
       "    .dataframe tbody tr th:only-of-type {\n",
       "        vertical-align: middle;\n",
       "    }\n",
       "\n",
       "    .dataframe tbody tr th {\n",
       "        vertical-align: top;\n",
       "    }\n",
       "\n",
       "    .dataframe thead th {\n",
       "        text-align: right;\n",
       "    }\n",
       "</style>\n",
       "<table border=\"1\" class=\"dataframe\">\n",
       "  <thead>\n",
       "    <tr style=\"text-align: right;\">\n",
       "      <th>Predicted</th>\n",
       "      <th>alarm</th>\n",
       "      <th>blender</th>\n",
       "      <th>microwave</th>\n",
       "      <th>silent</th>\n",
       "      <th>songs</th>\n",
       "      <th>vacuum</th>\n",
       "      <th>All</th>\n",
       "    </tr>\n",
       "    <tr>\n",
       "      <th>True</th>\n",
       "      <th></th>\n",
       "      <th></th>\n",
       "      <th></th>\n",
       "      <th></th>\n",
       "      <th></th>\n",
       "      <th></th>\n",
       "      <th></th>\n",
       "    </tr>\n",
       "  </thead>\n",
       "  <tbody>\n",
       "    <tr>\n",
       "      <th>alarm</th>\n",
       "      <td>121</td>\n",
       "      <td>0</td>\n",
       "      <td>1</td>\n",
       "      <td>0</td>\n",
       "      <td>0</td>\n",
       "      <td>0</td>\n",
       "      <td>122</td>\n",
       "    </tr>\n",
       "    <tr>\n",
       "      <th>blender</th>\n",
       "      <td>0</td>\n",
       "      <td>106</td>\n",
       "      <td>0</td>\n",
       "      <td>0</td>\n",
       "      <td>2</td>\n",
       "      <td>0</td>\n",
       "      <td>108</td>\n",
       "    </tr>\n",
       "    <tr>\n",
       "      <th>microwave</th>\n",
       "      <td>0</td>\n",
       "      <td>0</td>\n",
       "      <td>60</td>\n",
       "      <td>3</td>\n",
       "      <td>0</td>\n",
       "      <td>0</td>\n",
       "      <td>63</td>\n",
       "    </tr>\n",
       "    <tr>\n",
       "      <th>silent</th>\n",
       "      <td>0</td>\n",
       "      <td>0</td>\n",
       "      <td>0</td>\n",
       "      <td>84</td>\n",
       "      <td>0</td>\n",
       "      <td>0</td>\n",
       "      <td>84</td>\n",
       "    </tr>\n",
       "    <tr>\n",
       "      <th>songs</th>\n",
       "      <td>0</td>\n",
       "      <td>8</td>\n",
       "      <td>5</td>\n",
       "      <td>0</td>\n",
       "      <td>151</td>\n",
       "      <td>0</td>\n",
       "      <td>164</td>\n",
       "    </tr>\n",
       "    <tr>\n",
       "      <th>vacuum</th>\n",
       "      <td>0</td>\n",
       "      <td>0</td>\n",
       "      <td>0</td>\n",
       "      <td>0</td>\n",
       "      <td>1</td>\n",
       "      <td>65</td>\n",
       "      <td>66</td>\n",
       "    </tr>\n",
       "    <tr>\n",
       "      <th>All</th>\n",
       "      <td>121</td>\n",
       "      <td>114</td>\n",
       "      <td>66</td>\n",
       "      <td>87</td>\n",
       "      <td>154</td>\n",
       "      <td>65</td>\n",
       "      <td>607</td>\n",
       "    </tr>\n",
       "  </tbody>\n",
       "</table>\n",
       "</div>"
      ],
      "text/plain": [
       "Predicted  alarm  blender  microwave  silent  songs  vacuum  All\n",
       "True                                                            \n",
       "alarm        121        0          1       0      0       0  122\n",
       "blender        0      106          0       0      2       0  108\n",
       "microwave      0        0         60       3      0       0   63\n",
       "silent         0        0          0      84      0       0   84\n",
       "songs          0        8          5       0    151       0  164\n",
       "vacuum         0        0          0       0      1      65   66\n",
       "All          121      114         66      87    154      65  607"
      ]
     },
     "execution_count": 16,
     "metadata": {},
     "output_type": "execute_result"
    }
   ],
   "source": [
    "pd.crosstab(y_test, y_pred, rownames=['True'], colnames=['Predicted'], margins=True)"
   ]
  },
  {
   "cell_type": "markdown",
   "metadata": {},
   "source": [
    "# Model Accuracy Using Entire Audio Clip"
   ]
  },
  {
   "cell_type": "code",
   "execution_count": 17,
   "metadata": {},
   "outputs": [
    {
     "data": {
      "text/plain": [
       "'e'"
      ]
     },
     "execution_count": 17,
     "metadata": {},
     "output_type": "execute_result"
    }
   ],
   "source": [
    "def majorityVote(votes):\n",
    "    counter = Counter()\n",
    "    counter.update(votes) #get counts for each label\n",
    "    majority = sorted(counter.items(), key=lambda x: x[1])[::-1][0]\n",
    "    return majority[0] #return label with highest count\n",
    "a = ['b','b','c','e','e','e','f']\n",
    "majorityVote(a)"
   ]
  },
  {
   "cell_type": "code",
   "execution_count": 18,
   "metadata": {},
   "outputs": [],
   "source": [
    "#combine window class predictions using majority vote\n",
    "audioClipPredictions = []\n",
    "audioClipClasses = []\n",
    "\n",
    "for group in set(group_test):\n",
    "    groupMask = group_test == group\n",
    "    groupYPred = y_pred[groupMask]\n",
    "    groupPred = majorityVote(groupYPred)\n",
    "    \n",
    "    #all windows for the group should have the same labels\n",
    "    groupActual = set(y_test[groupMask])\n",
    "    if len(groupActual) != 1:\n",
    "        raise Exception\n",
    "    audioClipPredictions.append(groupPred)\n",
    "    audioClipClasses.append(groupActual.pop())"
   ]
  },
  {
   "cell_type": "code",
   "execution_count": 19,
   "metadata": {},
   "outputs": [
    {
     "name": "stdout",
     "output_type": "stream",
     "text": [
      "Normalized confusion matrix\n"
     ]
    },
    {
     "data": {
      "image/png": "[encoded data removed]",
      "text/plain": [
       "<Figure size 432x288 with 2 Axes>"
      ]
     },
     "metadata": {
      "needs_background": "light"
     },
     "output_type": "display_data"
    }
   ],
   "source": [
    "# reprint confusion matrix with full clip predictions\n",
    "plot_confusion_matrix(audioClipClasses, audioClipPredictions, classes=class_names, normalize=True, title='Normalized confusion matrix')\n",
    "plt.show()"
   ]
  },
  {
   "cell_type": "code",
   "execution_count": null,
   "metadata": {},
   "outputs": [],
   "source": []
  },
  {
   "cell_type": "code",
   "execution_count": null,
   "metadata": {},
   "outputs": [],
   "source": []
  }
 ],
 "metadata": {
  "kernelspec": {
   "display_name": "Python 3",
   "language": "python",
   "name": "python3"
  },
  "language_info": {
   "codemirror_mode": {
    "name": "ipython",
    "version": 3
   },
   "file_extension": ".py",
   "mimetype": "text/x-python",
   "name": "python",
   "nbconvert_exporter": "python",
   "pygments_lexer": "ipython3",
   "version": "3.7.0"
  }
 },
 "nbformat": 4,
 "nbformat_minor": 2
}
